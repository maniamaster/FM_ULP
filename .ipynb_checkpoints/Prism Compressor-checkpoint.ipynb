{
 "cells": [
  {
   "cell_type": "code",
   "execution_count": 1,
   "metadata": {
    "collapsed": false
   },
   "outputs": [],
   "source": [
    "import numpy as np\n",
    "import scipy as scp\n",
    "import sympy as sp\n",
    "import matplotlib.pyplot as plt\n",
    "\n",
    "c0=299792458.\n"
   ]
  },
  {
   "cell_type": "code",
   "execution_count": 2,
   "metadata": {
    "collapsed": false
   },
   "outputs": [],
   "source": [
    "#Brechungsindex für Nlak21\n",
    "lambda_ = sp.Symbol('lambda')\n",
    "\n",
    "n_ = sp.sqrt(1+(1.22718116*lambda_**2)/(lambda_**2-0.00602075682)\n",
    "                   +(0.420783743*lambda_**2)/(lambda_**2-0.0196862889)\n",
    "                   +(1.01284843*lambda_**2)/(lambda_**2-88.4370099))\n",
    "\n",
    "dn_ = sp.diff(n_,lambda_)\n",
    "ddn_ = sp.diff(dn_,lambda_)\n",
    "\n",
    "#numpy funktionen erstellen\n",
    "n_prism = sp.lambdify(lambda_, n_, modules='numpy')\n",
    "dn_prism = sp.lambdify(lambda_, dn_, modules='numpy')\n",
    "ddn_prism = sp.lambdify(lambda_, ddn_, modules='numpy')"
   ]
  },
  {
   "cell_type": "code",
   "execution_count": 3,
   "metadata": {
    "collapsed": false
   },
   "outputs": [],
   "source": [
    "#prism gdd Formel\n",
    "def prism_gdd(lambdal,n,dn,ddn,L,insertion=2.5e-3):\n",
    "    Lg=2*insertion*1/np.sqrt(1+n**2)\n",
    "    result = 2*lambdal**3*(2*np.pi*c0**2)**(-1)*(Lg*ddn-(4*L+Lg*n**(-3))*(dn)**2)\n",
    "    return result"
   ]
  },
  {
   "cell_type": "code",
   "execution_count": 4,
   "metadata": {
    "collapsed": false
   },
   "outputs": [
    {
     "name": "stdout",
     "output_type": "stream",
     "text": [
      "-1.67775581848e-27\n"
     ]
    }
   ],
   "source": [
    "lambdal_mikro=0.8\n",
    "lambdal_si=800e-9 #carrier wavelength\n",
    "L=432.0e-3 #Prism separation (measured)\n",
    "\n",
    "print prism_gdd(lambdal_si,n_prism(lambdal_mikro),dn_prism(lambdal_mikro)*1e6,ddn_prism(lambdal_mikro)*1e12,L,2.5e-3)\n",
    "\n"
   ]
  },
  {
   "cell_type": "code",
   "execution_count": 5,
   "metadata": {
    "collapsed": false
   },
   "outputs": [
    {
     "name": "stdout",
     "output_type": "stream",
     "text": [
      "[ -1.63423469e-27  -1.67775582e-27  -1.73663734e-27  -1.77375830e-27\n",
      "  -1.83135979e-27  -1.90816177e-27  -1.99776409e-27]\n"
     ]
    }
   ],
   "source": [
    "# prism compr auswertung (gdd in abhängigkeit von insertion:)\n",
    "insarr=np.array([2.84e-3,2.5e-3,2.04e-3,1.75e-3,1.3e-3,0.7e-3,0])\n",
    "\n",
    "gddarr=prism_gdd(lambdal_si,n_prism(lambdal_mikro),dn_prism(lambdal_mikro)*1e6,ddn_prism(lambdal_mikro)*1e12,L,insarr)\n",
    "\n",
    "print gddarr\n",
    "\n",
    "result_pc=np.column_stack((insarr,gddarr))\n",
    "np.savetxt('pc.txt',result_pc)\n",
    "plt.plot(insarr,gddarr)\n",
    "plt.show()"
   ]
  },
  {
   "cell_type": "code",
   "execution_count": 32,
   "metadata": {
    "collapsed": false
   },
   "outputs": [],
   "source": [
    "#pc hwhm:\n",
    "pcarr = np.loadtxt('pc_fwhm.dat')\n",
    "\n",
    "apparent_bw=55e-9*2*np.pi*c0*lambdal_si**(-2)\n",
    "t0_apparent=25e-15\n",
    "\n",
    "#secret_factor = 0.441**(1)\n",
    "secret_factor = 1\n",
    "\n",
    "def Timewidth(t0,gdd,bandwidth):\n",
    "    return np.sqrt(t0**2+gdd**2*(secret_factor*bandwidth)**2) #Faktor ????\n",
    "\n",
    "def Timewidth0(t,gdd,bandwidth):\n",
    "    return np.sqrt(secret_factor*t**2-gdd**2*bandwidth**2) #Faktor ????\n",
    "\n",
    "def Error_timewidth(t0,sigma_t0,gdd,sigma_gdd,bandwidth,sigma_bandwidth):\n",
    "    return np.sqrt(4*t0**2*sigma_t0**2*bandwidth**2\n",
    "                   +4*gdd**2*sigma_gdd**2*bandwidth**2\n",
    "                   +4*gdd**2*bandwidth**2*sigma_bandwidth**2)\n",
    "\n",
    "\n",
    "t0_arr = pcarr[:,1] #temp. gemessen (FWHM)\n",
    "bandwidth_arr = pcarr[:,2]*2*np.pi*c0*lambdal_si**(-2) #Bandbreite in omega\n",
    "\n",
    "gdd_opt = gddarr[0] #gdd bei opt. einstellung (berechnet mit pc formel)\n",
    "temp_opt = pcarr[0,1] #temporale breite bei opt. einst. (gemessen)\n",
    "bw_opt = bandwidth_arr[0] #bandbreite bei opt. einst. (gemessen)\n",
    "sigma_t0=0.1e-15\n",
    "sigma_gdd=1e-29\n",
    "sigma_bandwidth=0.1e-9*2*np.pi*c0*lambdal_si**(-2)\n",
    "\n",
    "\n",
    "#timewidth_opt = timewidth(t0arr[0],gddarr[0],bandwidtharr[0]) #was aus dem laser rauskommen sollte.\n",
    "\n",
    "timewidth_arr= Timewidth(temp_opt,gddarr-gdd_opt,bw_opt)\n",
    "sigma_timewidth_arr = Error_timewidth(temp_opt,sigma_t0,gddarr-gdd_opt,sigma_gdd,bw_opt,sigma_bandwidth)\n",
    "\n",
    "\n",
    "\n",
    "#timewidth_opt = timewidth(t0arr[0],gddarr[0],apparent_bw)\n",
    "\n",
    "#timewidth_theory_arr = timewidth0(timewidth_opt,gddarr,apparent_bw)\n",
    "\n",
    "\n",
    "plt.plot((gddarr-gdd_opt)**2,timewidth_arr**2,'o')\n",
    "plt.plot((gddarr-gdd_opt)**2,pcarr[:,1]**2,'b*')\n",
    "\n",
    "plt.plot((gddarr-gdd_opt+sigma_gdd)**2,(pcarr[:,1]+sigma_t0)**2,'c-*') #fehler addiert\n",
    "plt.plot((gddarr-gdd_opt-sigma_gdd)**2,(pcarr[:,1]-sigma_t0)**2,'c-*') #fehler subtrahiert\n",
    "plt.show()"
   ]
  },
  {
   "cell_type": "code",
   "execution_count": 7,
   "metadata": {
    "collapsed": false
   },
   "outputs": [
    {
     "name": "stdout",
     "output_type": "stream",
     "text": [
      "29432055739.2\n"
     ]
    }
   ],
   "source": [
    "print 0.01e-9*2*np.pi*c0*lambdal_si**(-2)"
   ]
  },
  {
   "cell_type": "code",
   "execution_count": 17,
   "metadata": {
    "collapsed": false
   },
   "outputs": [
    {
     "name": "stdout",
     "output_type": "stream",
     "text": [
      "[  6.67725049e-16   3.49101961e-03   8.21416378e-03   1.11917981e-02\n",
      "   1.58122653e-02   2.19728881e-02   2.91602814e-02]\n"
     ]
    }
   ],
   "source": [
    "print sigma_timewidth_arr"
   ]
  },
  {
   "cell_type": "code",
   "execution_count": 9,
   "metadata": {
    "collapsed": false
   },
   "outputs": [
    {
     "data": {
      "text/plain": [
       "array([  2.45000000e-14,   2.52075884e-14,   2.81953314e-14,\n",
       "         3.10119636e-14,   3.63570374e-14,   4.46502108e-14,\n",
       "         5.52656619e-14])"
      ]
     },
     "execution_count": 9,
     "metadata": {},
     "output_type": "execute_result"
    }
   ],
   "source": [
    "timewidth_arr"
   ]
  },
  {
   "cell_type": "code",
   "execution_count": 18,
   "metadata": {
    "collapsed": false
   },
   "outputs": [
    {
     "data": {
      "text/plain": [
       "array([  0.00000000e+00,  -4.35211243e-29,  -1.02402645e-28,\n",
       "        -1.39523604e-28,  -1.97125093e-28,  -2.73927077e-28,\n",
       "        -3.63529391e-28])"
      ]
     },
     "execution_count": 18,
     "metadata": {},
     "output_type": "execute_result"
    }
   ],
   "source": [
    "(gddarr-gdd_opt)"
   ]
  },
  {
   "cell_type": "code",
   "execution_count": null,
   "metadata": {
    "collapsed": true
   },
   "outputs": [],
   "source": []
  },
  {
   "cell_type": "code",
   "execution_count": null,
   "metadata": {
    "collapsed": true
   },
   "outputs": [],
   "source": []
  }
 ],
 "metadata": {
  "kernelspec": {
   "display_name": "Python 2",
   "language": "python",
   "name": "python2"
  },
  "language_info": {
   "codemirror_mode": {
    "name": "ipython",
    "version": 2
   },
   "file_extension": ".py",
   "mimetype": "text/x-python",
   "name": "python",
   "nbconvert_exporter": "python",
   "pygments_lexer": "ipython2",
   "version": "2.7.11"
  }
 },
 "nbformat": 4,
 "nbformat_minor": 0
}
