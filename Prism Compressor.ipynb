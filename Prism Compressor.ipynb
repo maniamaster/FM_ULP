{
 "cells": [
  {
   "cell_type": "code",
   "execution_count": 34,
   "metadata": {
    "collapsed": false
   },
   "outputs": [],
   "source": [
    "import numpy as np\n",
    "import scipy as scp\n",
    "import sympy as sp\n",
    "import matplotlib.pyplot as plt\n"
   ]
  },
  {
   "cell_type": "code",
   "execution_count": 54,
   "metadata": {
    "collapsed": false
   },
   "outputs": [],
   "source": [
    "#Brechungsindex für Nlak21\n",
    "lambda_ = sp.Symbol('lambda')\n",
    "\n",
    "n_ = sp.sqrt(1+(1.22718116*lambda_**2)/(lambda_**2-0.00602075682)\n",
    "                   +(0.420783743*lambda_**2)/(lambda_**2-0.0196862889)\n",
    "                   +(1.01284843*lambda_**2)/(lambda_**2-88.4370099))\n",
    "\n",
    "dn_ = sp.diff(n_,lambda_)\n",
    "ddn_ = sp.diff(dn_,lambda_)\n",
    "\n",
    "#numpy funktionen erstellen\n",
    "n_prism = sp.lambdify(lambda_, n_, modules='numpy')\n",
    "dn_prism = sp.lambdify(lambda_, dn_, modules='numpy')\n",
    "ddn_prism = sp.lambdify(lambda_, ddn_, modules='numpy')"
   ]
  },
  {
   "cell_type": "code",
   "execution_count": 59,
   "metadata": {
    "collapsed": false
   },
   "outputs": [],
   "source": [
    "#prism gdd Formel\n",
    "def prism_gdd(lambdal,n,dn,ddn,L,insertion=2.5e-3):\n",
    "    Lg=2*insertion*1/np.sqrt(1+n**2)\n",
    "    result = 2*lambdal**3*(2*np.pi*299792458.**2)**(-1)*(Lg*ddn-(4*L+Lg*n**(-3))*(dn)**2)\n",
    "    return result"
   ]
  },
  {
   "cell_type": "code",
   "execution_count": 65,
   "metadata": {
    "collapsed": false
   },
   "outputs": [
    {
     "name": "stdout",
     "output_type": "stream",
     "text": [
      "-1.66850691068e-27\n"
     ]
    }
   ],
   "source": [
    "lambdal_mikro=0.8\n",
    "lambdal_si=800e-9 #carrier wavelength\n",
    "L=430.0e-3 #Prism separation (measured)\n",
    "\n",
    "print prism_gdd(lambdal_si,n_prism(lambdal_mikro),dn_prism(lambdal_mikro)*1e6,ddn_prism(lambdal_mikro)*1e12,L,2.5e-3)\n",
    "\n"
   ]
  },
  {
   "cell_type": "code",
   "execution_count": null,
   "metadata": {
    "collapsed": true
   },
   "outputs": [],
   "source": []
  }
 ],
 "metadata": {
  "kernelspec": {
   "display_name": "Python 2",
   "language": "python",
   "name": "python2"
  },
  "language_info": {
   "codemirror_mode": {
    "name": "ipython",
    "version": 2
   },
   "file_extension": ".py",
   "mimetype": "text/x-python",
   "name": "python",
   "nbconvert_exporter": "python",
   "pygments_lexer": "ipython2",
   "version": "2.7.13"
  }
 },
 "nbformat": 4,
 "nbformat_minor": 0
}
