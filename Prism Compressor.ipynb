{
 "cells": [
  {
   "cell_type": "code",
   "execution_count": 1,
   "metadata": {
    "collapsed": false
   },
   "outputs": [],
   "source": [
    "import numpy as np\n",
    "import scipy as scp\n",
    "import sympy as sp\n",
    "import matplotlib.pyplot as plt\n",
    "\n",
    "c0=299792458.\n"
   ]
  },
  {
   "cell_type": "code",
   "execution_count": 2,
   "metadata": {
    "collapsed": false
   },
   "outputs": [],
   "source": [
    "#Brechungsindex für Nlak21\n",
    "lambda_ = sp.Symbol('lambda')\n",
    "\n",
    "n_ = sp.sqrt(1+(1.22718116*lambda_**2)/(lambda_**2-0.00602075682)\n",
    "                   +(0.420783743*lambda_**2)/(lambda_**2-0.0196862889)\n",
    "                   +(1.01284843*lambda_**2)/(lambda_**2-88.4370099))\n",
    "\n",
    "dn_ = sp.diff(n_,lambda_)\n",
    "ddn_ = sp.diff(dn_,lambda_)\n",
    "\n",
    "#numpy funktionen erstellen\n",
    "n_prism = sp.lambdify(lambda_, n_, modules='numpy')\n",
    "dn_prism = sp.lambdify(lambda_, dn_, modules='numpy')\n",
    "ddn_prism = sp.lambdify(lambda_, ddn_, modules='numpy')"
   ]
  },
  {
   "cell_type": "code",
   "execution_count": 3,
   "metadata": {
    "collapsed": false
   },
   "outputs": [],
   "source": [
    "#prism gdd Formel\n",
    "def prism_gdd(lambdal,n,dn,ddn,L,insertion=2.5e-3):\n",
    "    Lg=2*insertion*1/np.sqrt(1+n**2)\n",
    "    result = 2*lambdal**3*(2*np.pi*c0**2)**(-1)*(Lg*ddn-(4*L+Lg*n**(-3))*(dn)**2)\n",
    "    return result"
   ]
  },
  {
   "cell_type": "code",
   "execution_count": 4,
   "metadata": {
    "collapsed": false
   },
   "outputs": [
    {
     "name": "stdout",
     "output_type": "stream",
     "text": [
      "-1.67775581848e-27\n"
     ]
    }
   ],
   "source": [
    "lambdal_mikro=0.8\n",
    "lambdal_si=800e-9 #carrier wavelength\n",
    "L=432.0e-3 #Prism separation (measured)\n",
    "\n",
    "print prism_gdd(lambdal_si,n_prism(lambdal_mikro),dn_prism(lambdal_mikro)*1e6,ddn_prism(lambdal_mikro)*1e12,L,2.5e-3)\n",
    "\n"
   ]
  },
  {
   "cell_type": "code",
   "execution_count": 33,
   "metadata": {
    "collapsed": false
   },
   "outputs": [
    {
     "name": "stdout",
     "output_type": "stream",
     "text": [
      "[ -1.63423469e-27  -1.67775582e-27  -1.73663734e-27  -1.77375830e-27\n",
      "  -1.83135979e-27  -1.90816177e-27  -1.99776409e-27]\n"
     ]
    }
   ],
   "source": [
    "# prism compr auswertung (gdd in abhängigkeit von insertion:)\n",
    "insarr=np.array([2.84e-3,2.5e-3,2.04e-3,1.75e-3,1.3e-3,0.7e-3,0])\n",
    "\n",
    "gddarr=prism_gdd(lambdal_si,n_prism(lambdal_mikro),dn_prism(lambdal_mikro)*1e6,ddn_prism(lambdal_mikro)*1e12,L,insarr)\n",
    "\n",
    "print gddarr\n",
    "\n",
    "result_pc=np.column_stack((insarr,gddarr))\n",
    "np.savetxt('pc.txt',result_pc)\n",
    "plt.plot(insarr,gddarr)\n",
    "plt.show()"
   ]
  },
  {
   "cell_type": "code",
   "execution_count": 139,
   "metadata": {
    "collapsed": false
   },
   "outputs": [
    {
     "name": "stderr",
     "output_type": "stream",
     "text": [
      "/usr/lib/python2.7/site-packages/IPython/kernel/__main__.py:12: RuntimeWarning: invalid value encountered in sqrt\n"
     ]
    }
   ],
   "source": [
    "#pc hwhm:\n",
    "pcarr = np.loadtxt('pc_fwhm.dat')\n",
    "\n",
    "apparent_bw=8e-9*2*np.pi*c0*lambdal_si**(-2)\n",
    "\n",
    "#ausgangspulslänge vom laser:\n",
    "\n",
    "def timewidth(t0,gdd,bandwidth):\n",
    "    return np.sqrt(t0**2+gdd**2*bandwidth**2) #Faktor ????\n",
    "def timewidth0(t,gdd,bandwidth):\n",
    "    #return np.sqrt(np.absolute(t**2-gdd**2*bandwidth**2)) #Faktor ????\n",
    "    return np.sqrt(t**2-gdd**2*bandwidth**2) #Faktor ????\n",
    "\n",
    "t0arr = pcarr[:,1] #temp. gemessen (FWHM)\n",
    "#bandwidtharr = pcarr[:,2]*2*np.pi*c0*lambdal_si**(-2)\n",
    "bandwidtharr = pcarr[:,2]*2*np.pi*c0*lambdal_si**(-2) #Bandbreite in lambda\n",
    "\n",
    "gdd_opt = gddarr[0] #gdd bei opt. einstellung (berechnet mit pc formel)\n",
    "\n",
    "\n",
    "#timewidth_opt = timewidth(t0arr[0],gddarr[0],bandwidtharr[0]) #was aus dem laser rauskommen sollte.\n",
    "timewidth_opt = timewidth(t0arr[0],gddarr[0],apparent_bw)\n",
    "\n",
    "timewidth_theory_arr = timewidth0(timewidth_opt,gddarr,apparent_bw)\n"
   ]
  },
  {
   "cell_type": "code",
   "execution_count": 121,
   "metadata": {
    "collapsed": false
   },
   "outputs": [
    {
     "name": "stdout",
     "output_type": "stream",
     "text": [
      "[  1.40672962e-13   1.53512080e-13   1.69806127e-13   1.79579332e-13\n",
      "   1.94139771e-13   2.12640758e-13   2.33210090e-13]\n"
     ]
    }
   ],
   "source": [
    "print timewidth_theory_arr"
   ]
  },
  {
   "cell_type": "code",
   "execution_count": 122,
   "metadata": {
    "collapsed": false
   },
   "outputs": [
    {
     "name": "stdout",
     "output_type": "stream",
     "text": [
      "[  2.45000000e-14   2.56000000e-14   2.89000000e-14   3.57000000e-14\n",
      "   4.56000000e-14   5.33000000e-14   5.66000000e-14]\n"
     ]
    }
   ],
   "source": [
    "print pcarr[:,1]"
   ]
  },
  {
   "cell_type": "code",
   "execution_count": 125,
   "metadata": {
    "collapsed": false
   },
   "outputs": [
    {
     "data": {
      "text/plain": [
       "array([  1.36270418e+14,   1.38624983e+14,   1.73943449e+14,\n",
       "         1.42451150e+14,   1.45982996e+14,   1.29795366e+14,\n",
       "         1.19788467e+14])"
      ]
     },
     "execution_count": 125,
     "metadata": {},
     "output_type": "execute_result"
    }
   ],
   "source": [
    "bandwidtharr"
   ]
  },
  {
   "cell_type": "code",
   "execution_count": 127,
   "metadata": {
    "collapsed": false
   },
   "outputs": [
    {
     "name": "stdout",
     "output_type": "stream",
     "text": [
      "1.61876306566e+14\n"
     ]
    }
   ],
   "source": [
    "print 55e-9*2*np.pi*c0*lambdal_si**(-2)"
   ]
  },
  {
   "cell_type": "code",
   "execution_count": null,
   "metadata": {
    "collapsed": true
   },
   "outputs": [],
   "source": []
  }
 ],
 "metadata": {
  "kernelspec": {
   "display_name": "Python 2",
   "language": "python",
   "name": "python2"
  },
  "language_info": {
   "codemirror_mode": {
    "name": "ipython",
    "version": 2
   },
   "file_extension": ".py",
   "mimetype": "text/x-python",
   "name": "python",
   "nbconvert_exporter": "python",
   "pygments_lexer": "ipython2",
   "version": "2.7.13"
  }
 },
 "nbformat": 4,
 "nbformat_minor": 0
}
